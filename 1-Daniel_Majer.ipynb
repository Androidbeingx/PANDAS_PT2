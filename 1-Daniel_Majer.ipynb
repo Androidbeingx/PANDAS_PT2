{
 "cells": [
  {
   "cell_type": "markdown",
   "metadata": {},
   "source": [
    "# Questions by Daniel Majer\n",
    "\n",
    "### Gráfico de Barras\n",
    "\n",
    "What's the range of ages in each race group, when most probable that women can be affected by breast cancer based on this data set?\n",
    "\n",
    "Poner solo el gráfico de barras sin la normalización (líneas) eso será lo siguiente.\n",
    "https://www.kaggle.com/code/koustavghosh149/data-visualization-using-breast-cancer-dataset?scriptVersionId=103044427&cellId=17\n",
    "\n",
    "### Gráfico de Barras con Normalización\n",
    "In those ages which suffer the most from breast cancer, what are the frequencies of the 6th stage categories?\n",
    "\n",
    "https://www.kaggle.com/code/koustavghosh149/data-visualization-using-breast-cancer-dataset?scriptVersionId=103044427&cellId=17\n",
    "\n",
    "\n",
    "### Scatter plots y rectas de regresión\n",
    "Edad en la que es más probable que vivan o mueran los pacientes.\n",
    "\n",
    "Boxplot\n",
    "mortalidad y supervivencia basado en el número de meses que ha estado el tumor dentro del cuerpo.\n",
    "sns.boxplot('Survival Months', 'Status', data=df)\n",
    "\n",
    "Conclusión\n",
    "tiendes a pensar que mientras más tiempo está el tumor en tu cuerpo menos probabilidades de vivir tienes, pero es al revés.\n"
   ]
  }
 ],
 "metadata": {
  "kernelspec": {
   "display_name": "Python 3.10.6 ('venv')",
   "language": "python",
   "name": "python3"
  },
  "language_info": {
   "codemirror_mode": {
    "name": "ipython",
    "version": 3
   },
   "file_extension": ".py",
   "mimetype": "text/x-python",
   "name": "python",
   "nbconvert_exporter": "python",
   "pygments_lexer": "ipython3",
   "version": "3.10.6"
  },
  "orig_nbformat": 4,
  "vscode": {
   "interpreter": {
    "hash": "bb40034eb4636eddfe2d90ac10656bbc2fea4f46b50e9da4f41caa01f44e76dd"
   }
  }
 },
 "nbformat": 4,
 "nbformat_minor": 2
}
